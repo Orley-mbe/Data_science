{
 "cells": [
  {
   "cell_type": "code",
   "execution_count": 1,
   "id": "be0d5aa2",
   "metadata": {},
   "outputs": [],
   "source": [
    "#Используя цикл, создать список, содержащий все целые числа от 1 до 10, и вывести его на экран."
   ]
  },
  {
   "cell_type": "code",
   "execution_count": 6,
   "id": "89ec7241",
   "metadata": {},
   "outputs": [
    {
     "name": "stdout",
     "output_type": "stream",
     "text": [
      "[1, 2, 3, 4, 5, 6, 7, 8, 9, 10]\n"
     ]
    }
   ],
   "source": [
    "#метод 1 (сложность алгоритма O(n))\n",
    "list_number = []\n",
    "for el in range(1,11):\n",
    "    list_number.append(el)\n",
    "print(list_number)\n",
    "    "
   ]
  },
  {
   "cell_type": "code",
   "execution_count": null,
   "id": "56fb98a6",
   "metadata": {},
   "outputs": [],
   "source": [
    "#метод 2 (сложность алгоритма O(n))\n",
    "list_number = []\n",
    "el=0\n",
    "while el <=10:\n",
    "    list_number.append(el)\n",
    "    el=el+1\n",
    "print(list_number)"
   ]
  },
  {
   "cell_type": "code",
   "execution_count": null,
   "id": "3560e5a3",
   "metadata": {},
   "outputs": [],
   "source": []
  }
 ],
 "metadata": {
  "kernelspec": {
   "display_name": "Python 3 (ipykernel)",
   "language": "python",
   "name": "python3"
  },
  "language_info": {
   "codemirror_mode": {
    "name": "ipython",
    "version": 3
   },
   "file_extension": ".py",
   "mimetype": "text/x-python",
   "name": "python",
   "nbconvert_exporter": "python",
   "pygments_lexer": "ipython3",
   "version": "3.7.0"
  }
 },
 "nbformat": 4,
 "nbformat_minor": 5
}
